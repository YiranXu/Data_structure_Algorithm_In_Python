{
 "cells": [
  {
   "attachments": {},
   "cell_type": "markdown",
   "id": "c44d4ef9",
   "metadata": {},
   "source": [
    "### The writing and code below are my notes (including some direct quote) for taking the \"Object-Oriented Programming in Python\" course on educative.io (ed) and reading from *data structures and algorithms in Python book* (da).\n",
    "\n",
    "The basic idea of OOP is to mimic real-world objects to divide a sophisticated program into a number of objects that talk to each other. \n",
    "\n",
    "It is also possible for objects to serve application logic and have no direct, real-world parallels, like authentication, templating, request handling, or any of the other myriad features needed for a practical application.\n"
   ]
  },
  {
   "cell_type": "markdown",
   "id": "ec46cef8",
   "metadata": {},
   "source": [
    "### Object-Oriented Design Goals: (da)\n",
    "Software implementation should achieve robustness, adaptability and reusability.\n",
    "\n",
    "**Robustness**: capable of handiling unexpected input (be able to recover gracefully from input error)\n",
    "\n",
    "**Adaptability**:evolve over time in response to changing conditions in its environment. A related concept is *portability* (ability to run with minimal changes on different hardware and operating system platforms.)\n",
    "\n",
    "**Reusability**:the same code should be usable as a component of different systems in various applications. (reuse should be handled carefully.)"
   ]
  },
  {
   "cell_type": "markdown",
   "id": "60fe3c72",
   "metadata": {},
   "source": [
    "### Object-Oriented Design Principles (da)\n",
    "**Modularity**: an organizing principle where different funcional components are divided into separate units. It brings clarity to an implementation, increased robustness because it is easier to debug smaller and separate components than integrated system and bugs can be debugged isolatedly. It also helps reusability.\n",
    "\n",
    "**Abstraction**: distill a complicated system down to its most fundmental parts\n",
    "\n",
    "**Encapsulation**:different components of a software system should not reveal the internal details of their respective implementations."
   ]
  },
  {
   "cell_type": "markdown",
   "id": "4e181948",
   "metadata": {},
   "source": [
    "\n",
    "Objects may contain data (called state) in the form of fields (variables/ attributes/ properties) and methods to operate on that data (behaviors).\n",
    "\n",
    "A class is a **blueprint** for objects. Each object is an instance of a class. Different objects are differentiated by different attributes. \n",
    "\n",
    "A class is **user-defined** data type that builds upon primitive data type. Primitive data types are only used on modeling the attributes, and user-defined data type can encapsulate the state and its behaviors into one unit. "
   ]
  },
  {
   "cell_type": "markdown",
   "id": "e4ca3d88",
   "metadata": {},
   "source": [
    "#### Propoerties:\n",
    "\"Properties are variables that contain information regarding the object of a class.\"\n",
    "\n",
    "#### Methods\n",
    "\"Methods are like functions that have access to properties (and other methods) of a class. \""
   ]
  },
  {
   "cell_type": "markdown",
   "id": "24061093",
   "metadata": {},
   "source": [
    "## Create a python class:"
   ]
  },
  {
   "cell_type": "code",
   "execution_count": null,
   "id": "0b4d20df",
   "metadata": {},
   "outputs": [],
   "source": [
    "class ClassName:\n",
    "    pass"
   ]
  },
  {
   "cell_type": "markdown",
   "id": "2b857f3e",
   "metadata": {},
   "source": [
    "### Naming rules\n",
    "\n",
    "1. Must start with a letter or underscore\n",
    "\n",
    "2. Should only be comprised of numbers, letters, or underscores"
   ]
  },
  {
   "cell_type": "code",
   "execution_count": 3,
   "id": "5825b2f6",
   "metadata": {},
   "outputs": [
    {
     "name": "stdout",
     "output_type": "stream",
     "text": [
      "<__main__.MyClass object at 0x7f9928072a90>\n"
     ]
    }
   ],
   "source": [
    "class MyClass:\n",
    "    pass\n",
    "\n",
    "\n",
    "obj = MyClass()  # creating a MyClass Object\n",
    "print(obj) #will show memory address at which this object is stored."
   ]
  },
  {
   "cell_type": "markdown",
   "id": "87c13109",
   "metadata": {},
   "source": [
    "#### Implement 'Employee' class\n",
    "Note that Python can create properties of an object outside the class specifically for that object. (All future objects still adheres to the Class blueprint)"
   ]
  },
  {
   "cell_type": "code",
   "execution_count": 6,
   "id": "3dd9891b",
   "metadata": {},
   "outputs": [
    {
     "name": "stdout",
     "output_type": "stream",
     "text": [
      "ID = 3789\n",
      "Salary 2500\n",
      "Department: Human Resources\n",
      "Title: Manager\n"
     ]
    }
   ],
   "source": [
    "class Employee():\n",
    "    # defining the properties and assigning them none\n",
    "    ID=None\n",
    "    salary= None\n",
    "    department=None\n",
    "# cerating an object of the Employee class\n",
    "Steve=Employee()\n",
    "\n",
    "Steve.ID=3789 #To access properties of an object, \".\" is used\n",
    "Steve.salary=2500\n",
    "Steve.department='Human Resources'\n",
    "\n",
    "# creating a new attribute for Steve\n",
    "Steve.title = \"Manager\"\n",
    "print(\"ID =\", Steve.ID)\n",
    "print(\"Salary\", Steve.salary)\n",
    "print(\"Department:\", Steve.department)\n",
    "print(\"Title:\", Steve.title)\n"
   ]
  },
  {
   "cell_type": "markdown",
   "id": "976915c8",
   "metadata": {},
   "source": [
    "### Initializer\n"
   ]
  }
 ],
 "metadata": {
  "kernelspec": {
   "display_name": "Python 3",
   "language": "python",
   "name": "python3"
  },
  "language_info": {
   "codemirror_mode": {
    "name": "ipython",
    "version": 3
   },
   "file_extension": ".py",
   "mimetype": "text/x-python",
   "name": "python",
   "nbconvert_exporter": "python",
   "pygments_lexer": "ipython3",
   "version": "3.8.8"
  }
 },
 "nbformat": 4,
 "nbformat_minor": 5
}
