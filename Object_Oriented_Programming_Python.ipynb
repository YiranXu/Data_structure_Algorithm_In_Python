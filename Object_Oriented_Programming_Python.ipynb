{
 "cells": [
  {
   "cell_type": "markdown",
   "id": "c44d4ef9",
   "metadata": {},
   "source": [
    "### The writing and code below are my notes (including some direct quote) for taking the \"Object-Oriented Programming in Python\" course on educative.io (ed) and reading from *data structures and algorithms in Python book* (da).\n",
    "\n",
    "The basic idea of OOP is to mimic real-world objects to divide a sophisticated program into a number of objects that talk to each other. \n",
    "\n",
    "It is also possible for objects to serve application logic and have no direct, real-world parallels, like authentication, templating, request handling, or any of the other myriad features needed for a practical application.\n"
   ]
  },
  {
   "cell_type": "markdown",
   "id": "ec46cef8",
   "metadata": {},
   "source": [
    "### Object-Oriented Design Goals: (da)\n",
    "Software implementation should achieve robustness, adaptability and reusability.\n",
    "\n",
    "**Robustness**: capable of handiling unexpected input (be able to recover gracefully from input error)\n",
    "\n",
    "**Adaptability**:evolve over time in response to changing conditions in its environment. A related concept is *portability* (ability to run with minimal changes on different hardware and operating system platforms.)\n",
    "\n",
    "**Reusability**:the same code should be usable as a component of different systems in various applications. (reuse should be handled carefully.)"
   ]
  },
  {
   "cell_type": "markdown",
   "id": "60fe3c72",
   "metadata": {},
   "source": [
    "### Object-Oriented Design Principles (da)\n",
    "**Modularity**: an organizing principle where different funcional components are divided into separate units. It brings clarity to an implementation, increased robustness because it is easier to debug smaller and separate components than integrated system and bugs can be debugged isolatedly. It also helps reusability.\n",
    "\n",
    "**Abstraction**: distill a complicated system down to its most fundmental parts\n",
    "\n",
    "**Encapsulation**:different components of a software system should not reveal the internal details of their respective implementations."
   ]
  },
  {
   "cell_type": "markdown",
   "id": "4e181948",
   "metadata": {},
   "source": [
    "\n",
    "Objects may contain data (called state) in the form of fields (variables/ attributes/ properties) and methods to operate on that data (behaviors).\n",
    "\n",
    "A class is a **blueprint** for objects. Each object is an instance of a class. Different objects are differentiated by different attributes. \n",
    "\n",
    "A class is **user-defined** data type that builds upon primitive data type. Primitive data types are only used on modeling the attributes, and user-defined data type can encapsulate the state and its behaviors into one unit. "
   ]
  },
  {
   "cell_type": "markdown",
   "id": "e4ca3d88",
   "metadata": {},
   "source": [
    "#### Propoerties:\n",
    "\"Properties are variables that contain information regarding the object of a class.\"\n",
    "\n",
    "#### Methods\n",
    "\"Methods are like functions that have access to properties (and other methods) of a class. \""
   ]
  },
  {
   "cell_type": "markdown",
   "id": "24061093",
   "metadata": {},
   "source": [
    "## Create a python class:"
   ]
  },
  {
   "cell_type": "code",
   "execution_count": null,
   "id": "0b4d20df",
   "metadata": {},
   "outputs": [],
   "source": [
    "class ClassName:\n",
    "    pass"
   ]
  },
  {
   "cell_type": "markdown",
   "id": "2b857f3e",
   "metadata": {},
   "source": [
    "### Naming rules\n",
    "\n",
    "1. Must start with a letter or underscore\n",
    "\n",
    "2. Should only be comprised of numbers, letters, or underscores"
   ]
  },
  {
   "cell_type": "code",
   "execution_count": 3,
   "id": "5825b2f6",
   "metadata": {},
   "outputs": [
    {
     "name": "stdout",
     "output_type": "stream",
     "text": [
      "<__main__.MyClass object at 0x7f9928072a90>\n"
     ]
    }
   ],
   "source": [
    "class MyClass:\n",
    "    pass\n",
    "\n",
    "\n",
    "obj = MyClass()  # creating a MyClass Object\n",
    "print(obj) #will show memory address at which this object is stored."
   ]
  },
  {
   "cell_type": "markdown",
   "id": "87c13109",
   "metadata": {},
   "source": [
    "#### Implement 'Employee' class\n",
    "Note that Python can create properties of an object outside the class specifically for that object. (All future objects still adheres to the Class blueprint)"
   ]
  },
  {
   "cell_type": "code",
   "execution_count": 6,
   "id": "3dd9891b",
   "metadata": {},
   "outputs": [
    {
     "name": "stdout",
     "output_type": "stream",
     "text": [
      "ID = 3789\n",
      "Salary 2500\n",
      "Department: Human Resources\n",
      "Title: Manager\n"
     ]
    }
   ],
   "source": [
    "class Employee():\n",
    "    # defining the properties and assigning them none\n",
    "    ID=None\n",
    "    salary= None\n",
    "    department=None\n",
    "# cerating an object of the Employee class\n",
    "Steve=Employee()\n",
    "\n",
    "Steve.ID=3789 #To access properties of an object, \".\" is used\n",
    "Steve.salary=2500\n",
    "Steve.department='Human Resources'\n",
    "\n",
    "# creating a new attribute for Steve\n",
    "Steve.title = \"Manager\"\n",
    "print(\"ID =\", Steve.ID)\n",
    "print(\"Salary\", Steve.salary)\n",
    "print(\"Department:\", Steve.department)\n",
    "print(\"Title:\", Steve.title)\n"
   ]
  },
  {
   "cell_type": "markdown",
   "id": "976915c8",
   "metadata": {},
   "source": [
    "### Initializer\n"
   ]
  },
  {
   "cell_type": "markdown",
   "id": "cc49d1b0",
   "metadata": {},
   "source": [
    "Used to initialize an object of a class. It’s used to define and assign values to instance variables. \n",
    "\n",
    "It has pre-defined name __init__.\n",
    "\n",
    "The initializer is a special method because it does not have a return type. The first parameter of __init__ is self, which is a way to refer to the object being initialized.\n",
    "\n",
    "A good practice would be to initialize all of the object properties when defining the initializer. When defining an initializer with optional parameters, it’s essential to assign default values to the properties."
   ]
  },
  {
   "cell_type": "markdown",
   "id": "5d537d95",
   "metadata": {},
   "source": [
    "## Class and Instance Variables\n"
   ]
  },
  {
   "cell_type": "markdown",
   "id": "fec77f2a",
   "metadata": {},
   "source": [
    "Class variables are shared by all instances/ objects of the classes.A change in the class variable will change the value of that property in all the objects of the class.\n",
    "\n",
    "Instance variables are unique to each instance or object of the class. A change in the instance variable will change the value of the property in that specific object only."
   ]
  },
  {
   "cell_type": "code",
   "execution_count": 1,
   "id": "9e274f37",
   "metadata": {},
   "outputs": [
    {
     "name": "stdout",
     "output_type": "stream",
     "text": [
      "Name: Mark\n",
      "Team Name: Liverpool\n",
      "Name: Steve\n",
      "Team Name: Liverpool\n"
     ]
    }
   ],
   "source": [
    "class Player:\n",
    "    teamName = 'Liverpool'  # class variables\n",
    "\n",
    "    def __init__(self, name):\n",
    "        self.name = name  # creating instance variables\n",
    "\n",
    "\n",
    "p1 = Player('Mark')\n",
    "p2 = Player('Steve')\n",
    "\n",
    "print(\"Name:\", p1.name)\n",
    "print(\"Team Name:\", p1.teamName)\n",
    "print(\"Name:\", p2.name)\n",
    "print(\"Team Name:\", p2.teamName)\n"
   ]
  },
  {
   "cell_type": "markdown",
   "id": "f7145d60",
   "metadata": {},
   "source": [
    "Don't make variable that is unique to instances a class variable.\n",
    "\n",
    "Class variables are useful when implementing properties that should be common and accessible to all class objects. "
   ]
  },
  {
   "cell_type": "code",
   "execution_count": 2,
   "id": "94a29f7f",
   "metadata": {},
   "outputs": [
    {
     "name": "stdout",
     "output_type": "stream",
     "text": [
      "Name: Mark\n",
      "Team Members:\n",
      "['Mark', 'Steve']\n",
      "\n",
      "Name: Steve\n",
      "Team Members:\n",
      "['Mark', 'Steve']\n"
     ]
    }
   ],
   "source": [
    "class Player:\n",
    "    teamName = 'Liverpool'      # class variables\n",
    "    teamMembers = []\n",
    "\n",
    "    def __init__(self, name):\n",
    "        self.name = name        # creating instance variables\n",
    "        self.formerTeams = []\n",
    "        self.teamMembers.append(self.name)\n",
    "\n",
    "\n",
    "p1 = Player('Mark')\n",
    "p2 = Player('Steve')\n",
    "\n",
    "print(\"Name:\", p1.name)\n",
    "print(\"Team Members:\")\n",
    "print(p1.teamMembers)\n",
    "print(\"\")\n",
    "print(\"Name:\", p2.name)\n",
    "print(\"Team Members:\")\n",
    "print(p2.teamMembers)"
   ]
  },
  {
   "cell_type": "markdown",
   "id": "fd63f895",
   "metadata": {},
   "source": [
    "## Methods in a Class"
   ]
  },
  {
   "cell_type": "markdown",
   "id": "ddf2dc1d",
   "metadata": {},
   "source": [
    "Three types of methods:1. instance methods (most frequently used)  2. class methods 3. static methods.\n",
    "\n",
    "Note: We will be using the term methods for instance methods in our course since they are most commonly used. Class methods and static methods will be named explicitly as they are.\n",
    "\n",
    "Method parameters make it possible to pass values to the method. In Python, the first parameter of the method should ALWAYS be self (discussed below) and which followed by the remaining parameters.\n",
    "\n",
    "The self argument:One of the major differences between functions and methods in Python is the first argument in the method definition. Conventionally, this is named self. It is a reference to the calling object."
   ]
  },
  {
   "cell_type": "code",
   "execution_count": 3,
   "id": "d5de8bcb",
   "metadata": {},
   "outputs": [
    {
     "name": "stdout",
     "output_type": "stream",
     "text": [
      "ID = 3789\n",
      "Salary 2500\n",
      "Department: Human Resources\n",
      "Tax paid by Steve: 500.0\n",
      "Salary per day of Steve 83.33333333333333\n"
     ]
    }
   ],
   "source": [
    "class Employee:\n",
    "    # defining the initializer\n",
    "    def __init__(self, ID=None, salary=None, department=None):\n",
    "        self.ID = ID\n",
    "        self.salary = salary\n",
    "        self.department = department\n",
    "\n",
    "    def tax(self):\n",
    "        return (self.salary * 0.2)\n",
    "\n",
    "    def salaryPerDay(self):\n",
    "        return (self.salary / 30)\n",
    "\n",
    "\n",
    "# initializing an object of the Employee class\n",
    "Steve = Employee(3789, 2500, \"Human Resources\")\n",
    "\n",
    "# Printing properties of Steve\n",
    "print(\"ID =\", Steve.ID)\n",
    "print(\"Salary\", Steve.salary)\n",
    "print(\"Department:\", Steve.department)\n",
    "print(\"Tax paid by Steve:\", Steve.tax())\n",
    "print(\"Salary per day of Steve\", Steve.salaryPerDay())"
   ]
  },
  {
   "cell_type": "markdown",
   "id": "d28da8a1",
   "metadata": {},
   "source": [
    "### Method overloading\n",
    "Overloading refers to making a method perform different operations based on the nature of its arguments. Unlike in other programming languages, methods cannot be explicitly overloaded in Python but can be implicitly overloaded.\n",
    "\n",
    "We can do this by adding optional parameters with default values\n",
    "\n",
    "Advantages of method overloading:\n",
    "1. save memory space ---> 2. thus compiled faster \n",
    "\n",
    "3. cleaner code\n",
    "\n",
    "4. helps polymorphism\n"
   ]
  },
  {
   "cell_type": "markdown",
   "id": "2c7b7cc0",
   "metadata": {},
   "source": [
    "### Class method\n",
    "Class methods are accessed using the class name and can be accessed without creating a class object. Since all class objects share the class variables, class methods are used to access and modify class variables.\n",
    "\n",
    "To declare a method as a class method, we use the decorator @classmethod. cls is used to refer to the class just like self is used to refer to the object of the class. You can use any other name instead of cls, but cls is used as per convention, and we will continue to use this convention in our course.\n",
    "\n",
    "Note: Just like instance methods, all class methods have at least one argument, cls."
   ]
  },
  {
   "cell_type": "code",
   "execution_count": 4,
   "id": "e3017324",
   "metadata": {},
   "outputs": [],
   "source": [
    "class MyClass:\n",
    "    classVariable = 'educative'\n",
    "\n",
    "    @classmethod\n",
    "    def demo(cls):\n",
    "        return cls.classVariable"
   ]
  },
  {
   "cell_type": "code",
   "execution_count": 5,
   "id": "16c30b3e",
   "metadata": {},
   "outputs": [
    {
     "name": "stdout",
     "output_type": "stream",
     "text": [
      "Liverpool\n"
     ]
    }
   ],
   "source": [
    "class Player:\n",
    "    teamName = 'Liverpool'  # class variables\n",
    "\n",
    "    def __init__(self, name):\n",
    "        self.name = name  # creating instance variables\n",
    "\n",
    "    @classmethod\n",
    "    def getTeamName(cls):\n",
    "        return cls.teamName\n",
    "\n",
    "\n",
    "print(Player.getTeamName())\n"
   ]
  },
  {
   "cell_type": "markdown",
   "id": "c83f951d",
   "metadata": {},
   "source": [
    "### Static methods\n",
    "Static methods are methods that are usually limited to class only and not their objects. They have no direct relation to class variables or instance variables. They are used as utility functions inside the class or when we do not want the inherited classes to modify a method definition.\n",
    "\n",
    "Static methods can be accessed using the class name or the object name.\n",
    "\n",
    "To declare a method as a static method, we use the decorator @staticmethod. It does not use a reference to the object or class, so we do not have to use self or cls. We can pass as many arguments as we want and use this method to perform any function without interfering with the instance or class variables."
   ]
  },
  {
   "cell_type": "code",
   "execution_count": 8,
   "id": "39c6cef5",
   "metadata": {},
   "outputs": [],
   "source": [
    "class MyClass:\n",
    "    @staticmethod\n",
    "    def demo():\n",
    "        print(\"I am a static method\")"
   ]
  },
  {
   "cell_type": "code",
   "execution_count": 9,
   "id": "06c1a8b9",
   "metadata": {},
   "outputs": [
    {
     "name": "stdout",
     "output_type": "stream",
     "text": [
      "I am a static method.\n",
      "I am a static method.\n"
     ]
    }
   ],
   "source": [
    "class Player:\n",
    "    teamName = 'Liverpool'  # class variables\n",
    "\n",
    "    def __init__(self, name):\n",
    "        self.name = name  # creating instance variables\n",
    "\n",
    "    @staticmethod\n",
    "    def demo():\n",
    "        print(\"I am a static method.\")\n",
    "\n",
    "\n",
    "p1 = Player('lol')\n",
    "p1.demo()\n",
    "Player.demo()"
   ]
  },
  {
   "cell_type": "markdown",
   "id": "f6c71ae4",
   "metadata": {},
   "source": [
    "Static methods do not know anything about the state of the class, i.e., they cannot modify class attributes. The purpose of a static method is to use its parameters and produce a useful result."
   ]
  },
  {
   "cell_type": "code",
   "execution_count": 10,
   "id": "75338056",
   "metadata": {},
   "outputs": [
    {
     "name": "stdout",
     "output_type": "stream",
     "text": [
      "23.148148148148145\n"
     ]
    }
   ],
   "source": [
    "class BodyInfo:\n",
    "\n",
    "    @staticmethod\n",
    "    def bmi(weight, height):\n",
    "        return weight / (height**2)\n",
    "\n",
    "\n",
    "weight = 75\n",
    "height = 1.8\n",
    "print(BodyInfo.bmi(weight, height))"
   ]
  },
  {
   "cell_type": "code",
   "execution_count": null,
   "id": "3a2bebd8",
   "metadata": {},
   "outputs": [],
   "source": []
  }
 ],
 "metadata": {
  "kernelspec": {
   "display_name": "Python 3",
   "language": "python",
   "name": "python3"
  },
  "language_info": {
   "codemirror_mode": {
    "name": "ipython",
    "version": 3
   },
   "file_extension": ".py",
   "mimetype": "text/x-python",
   "name": "python",
   "nbconvert_exporter": "python",
   "pygments_lexer": "ipython3",
   "version": "3.8.8"
  }
 },
 "nbformat": 4,
 "nbformat_minor": 5
}
