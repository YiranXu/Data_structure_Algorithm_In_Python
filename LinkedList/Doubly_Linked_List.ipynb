{
 "cells": [
  {
   "cell_type": "code",
   "execution_count": 29,
   "id": "36f7471a",
   "metadata": {},
   "outputs": [],
   "source": [
    "class _DoublyLinkedBase:\n",
    "    \"\"\"\n",
    "    A base class providing a doubly linked list representation\n",
    "    \"\"\"\n",
    "    class _Node:\n",
    "        __slots__='_element','_prev','_next'\n",
    "        def __init__(self,element,prev,next):\n",
    "            self._element=element\n",
    "            self._prev=prev\n",
    "            self._next=next\n",
    "    def __init__(self):\n",
    "        self._header=self._Node(None,None,None)\n",
    "        self._trailer=self._Node(None,None,None)\n",
    "        self._header._next=self._trailer\n",
    "        self._trailer._prev=self._header\n",
    "        self._size=0\n",
    "    def __len__(self):\n",
    "        \"\"\"Return the number of elements in the list\"\"\"\n",
    "        return self._size\n",
    "    def is_empty(self):\n",
    "        return self.__size==0\n",
    "    def print_list(self):\n",
    "        \n",
    "        cur = self._header\n",
    "        while cur:\n",
    "            print(cur._element)\n",
    "            cur = cur._next\n",
    "    \n",
    "    def _insert_between(self,e,predecessor,successor):\n",
    "        \"\"\"\n",
    "        Add element e between two existing nodes and return new node\n",
    "        \"\"\"\n",
    "        newest=self._Node(e,predecessor,successor)\n",
    "        predecessor._next=newest\n",
    "        successor._prev=newest\n",
    "        self._size+=1\n",
    "        return newest\n",
    "    def _delete_node(self,node):\n",
    "        \"\"\"\n",
    "        delete nondummy node from the list and return its element\n",
    "        \"\"\"\n",
    "        node._prev._next=node._next\n",
    "        node.next._prev=node._prev\n",
    "        self._size-=1\n",
    "        element=node.element\n",
    "        node._prev=node._next=node._element=None #deprecate node\n",
    "        return element\n",
    "    def _append(self,e):\n",
    "        return self._insert_between(e,self._trailer._prev,self._trailer)\n",
    "    def reverse(self):\n",
    "        cur=self._header\n",
    "        while cur:\n",
    "            #temp=cur._prev\n",
    "            cur._prev,cur._next=cur._next,cur._prev\n",
    "            cur=cur._prev\n",
    "        self._trailer,self._header=self._header,self._trailer"
   ]
  },
  {
   "cell_type": "code",
   "execution_count": 30,
   "id": "001bdcdf",
   "metadata": {},
   "outputs": [
    {
     "name": "stdout",
     "output_type": "stream",
     "text": [
      "None\n",
      "1\n",
      "2\n",
      "3\n",
      "4\n",
      "None\n",
      "reverse\n",
      "None\n",
      "4\n",
      "3\n",
      "2\n",
      "1\n",
      "None\n"
     ]
    }
   ],
   "source": [
    "dllist = _DoublyLinkedBase()\n",
    "dllist._append(1)\n",
    "dllist._append(2)\n",
    "dllist._append(3)\n",
    "dllist._append(4)\n",
    "dllist.print_list()\n",
    "\n",
    "dllist.reverse()\n",
    "print(\"reverse\")\n",
    "dllist.print_list()"
   ]
  },
  {
   "cell_type": "code",
   "execution_count": null,
   "id": "8387e1d0",
   "metadata": {},
   "outputs": [],
   "source": []
  }
 ],
 "metadata": {
  "kernelspec": {
   "display_name": "Python 3",
   "language": "python",
   "name": "python3"
  },
  "language_info": {
   "codemirror_mode": {
    "name": "ipython",
    "version": 3
   },
   "file_extension": ".py",
   "mimetype": "text/x-python",
   "name": "python",
   "nbconvert_exporter": "python",
   "pygments_lexer": "ipython3",
   "version": "3.8.8"
  }
 },
 "nbformat": 4,
 "nbformat_minor": 5
}
