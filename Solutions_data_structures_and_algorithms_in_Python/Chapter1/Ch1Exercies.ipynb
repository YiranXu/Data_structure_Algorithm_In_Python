{
 "cells": [
  {
   "cell_type": "markdown",
   "id": "d4149bb9",
   "metadata": {},
   "source": [
    "# Reinforcement"
   ]
  },
  {
   "cell_type": "markdown",
   "id": "ca0e9388",
   "metadata": {},
   "source": [
    "**R-1.6**\n",
    "\n",
    "Write a short Python function that takes a positive integer n and returns\n",
    "the sum of the squares of all the odd positive integers smaller than n"
   ]
  },
  {
   "cell_type": "code",
   "execution_count": 4,
   "id": "9d58c7c4",
   "metadata": {},
   "outputs": [
    {
     "data": {
      "text/plain": [
       "1"
      ]
     },
     "execution_count": 4,
     "metadata": {},
     "output_type": "execute_result"
    }
   ],
   "source": [
    "sum((x**2 for x in range(1,3) if x % 2 == 1))"
   ]
  },
  {
   "cell_type": "markdown",
   "id": "b4bf3577",
   "metadata": {},
   "source": [
    "**R-1.11**\n",
    "Demonstrate how to use Python’s list comprehension syntax to produce\n",
    "the list [1, 2, 4, 8, 16, 32, 64, 128, 256].\n"
   ]
  },
  {
   "cell_type": "code",
   "execution_count": 11,
   "id": "bb9bd8c0",
   "metadata": {},
   "outputs": [
    {
     "data": {
      "text/plain": [
       "[1, 2, 4, 8, 16, 32, 64, 128, 256]"
      ]
     },
     "execution_count": 11,
     "metadata": {},
     "output_type": "execute_result"
    }
   ],
   "source": [
    "[2**x for x in range(9)]"
   ]
  },
  {
   "cell_type": "markdown",
   "id": "db442e66",
   "metadata": {},
   "source": [
    "**R-1.12** \n",
    "\n",
    "Python’s random module includes a function choice(data) that returns a\n",
    "random element from a non-empty sequence. The random module in- cludes a more basic function randrange, with parameterization similar to the built-in range function, that return a random choice from the given range. Using only the randrange function, implement your own version of the choice function.\n"
   ]
  },
  {
   "cell_type": "code",
   "execution_count": 14,
   "id": "f99e35f2",
   "metadata": {},
   "outputs": [],
   "source": [
    "from random import randrange\n",
    "def new_choice(data):\n",
    "    len_data=len(data)\n",
    "    r=randrange(len_data)\n",
    "    return data[r]"
   ]
  },
  {
   "cell_type": "code",
   "execution_count": 16,
   "id": "e5db1e40",
   "metadata": {},
   "outputs": [
    {
     "data": {
      "text/plain": [
       "7"
      ]
     },
     "execution_count": 16,
     "metadata": {},
     "output_type": "execute_result"
    }
   ],
   "source": [
    "new_choice([x for x in range(10)])"
   ]
  },
  {
   "cell_type": "markdown",
   "id": "9b6773b4",
   "metadata": {},
   "source": [
    "# Creativity"
   ]
  },
  {
   "cell_type": "markdown",
   "id": "9f110455",
   "metadata": {},
   "source": [
    "**C-1.14**\n",
    "Write a short Python function that takes a sequence of integer values and\n",
    "determines if there is a distinct pair of numbers in the sequence whose product is odd."
   ]
  },
  {
   "cell_type": "code",
   "execution_count": 26,
   "id": "f489cf16",
   "metadata": {},
   "outputs": [],
   "source": [
    "def odd_product(data):\n",
    "    \"\"\"\n",
    "    if not all numbers are even, then there will  be a pair\n",
    "    \"\"\"\n",
    "    odd=[x for x in data if x%2==1]\n",
    "    if len(odd)>1:\n",
    "        return odd[0],odd[1]\n",
    "    return False"
   ]
  },
  {
   "cell_type": "code",
   "execution_count": 27,
   "id": "b3234610",
   "metadata": {},
   "outputs": [
    {
     "data": {
      "text/plain": [
       "(1, 3)"
      ]
     },
     "execution_count": 27,
     "metadata": {},
     "output_type": "execute_result"
    }
   ],
   "source": [
    "odd_product([1,2,3])"
   ]
  },
  {
   "cell_type": "markdown",
   "id": "62ec4ddf",
   "metadata": {},
   "source": [
    "**C-1.15**\n",
    "Write a Python function that takes a sequence of numbers and determines\n",
    "if all the numbers are different from each other (that is, they are distinct).\n"
   ]
  },
  {
   "cell_type": "code",
   "execution_count": 35,
   "id": "5da31ce6",
   "metadata": {},
   "outputs": [],
   "source": [
    "def distinct(data):\n",
    "    setdata={x for x in data}\n",
    "    return len(setdata)==len(data)"
   ]
  },
  {
   "cell_type": "code",
   "execution_count": 36,
   "id": "792bbc33",
   "metadata": {},
   "outputs": [
    {
     "data": {
      "text/plain": [
       "False"
      ]
     },
     "execution_count": 36,
     "metadata": {},
     "output_type": "execute_result"
    }
   ],
   "source": [
    "distinct([1,2,3,3])"
   ]
  },
  {
   "cell_type": "markdown",
   "id": "09836e43",
   "metadata": {},
   "source": [
    "**C-1.18** Demonstrate how to use Python’s list comprehension syntax to produce\n",
    "the list [0, 2, 6, 12, 20, 30, 42, 56, 72, 90].\n",
    "\n"
   ]
  },
  {
   "cell_type": "code",
   "execution_count": 1,
   "id": "070c773d",
   "metadata": {},
   "outputs": [
    {
     "data": {
      "text/plain": [
       "[0, 2, 6, 12, 20, 30, 42, 56, 72, 90]"
      ]
     },
     "execution_count": 1,
     "metadata": {},
     "output_type": "execute_result"
    }
   ],
   "source": [
    "[i*(i+1) for i in range(10)]"
   ]
  },
  {
   "cell_type": "markdown",
   "id": "d7c2be00",
   "metadata": {},
   "source": [
    "C-1.19 Demonstrate how to use Python’s list comprehension syntax to produce\n",
    "the list [ a , b , c , ..., z ], but without having to type all 26 such characters literally"
   ]
  },
  {
   "cell_type": "code",
   "execution_count": 2,
   "id": "313cc9a1",
   "metadata": {},
   "outputs": [
    {
     "data": {
      "text/plain": [
       "97"
      ]
     },
     "execution_count": 2,
     "metadata": {},
     "output_type": "execute_result"
    }
   ],
   "source": [
    "ord('a')#get the ASCII code of the corresponding character"
   ]
  },
  {
   "cell_type": "code",
   "execution_count": 9,
   "id": "3950ecc0",
   "metadata": {},
   "outputs": [
    {
     "data": {
      "text/plain": [
       "['a',\n",
       " 'b',\n",
       " 'c',\n",
       " 'd',\n",
       " 'e',\n",
       " 'f',\n",
       " 'g',\n",
       " 'h',\n",
       " 'i',\n",
       " 'j',\n",
       " 'k',\n",
       " 'l',\n",
       " 'm',\n",
       " 'n',\n",
       " 'o',\n",
       " 'p',\n",
       " 'q',\n",
       " 'r',\n",
       " 's',\n",
       " 't',\n",
       " 'u',\n",
       " 'v',\n",
       " 'w',\n",
       " 'x',\n",
       " 'y',\n",
       " 'z']"
      ]
     },
     "execution_count": 9,
     "metadata": {},
     "output_type": "execute_result"
    }
   ],
   "source": [
    "[chr(i) for i in range(ord('a'),ord('z')+1)]"
   ]
  },
  {
   "cell_type": "markdown",
   "id": "ae10dcd8",
   "metadata": {},
   "source": [
    "C-1.20 Python’s random module includes a function shuﬄe(data) that accepts a\n",
    "list of elements and randomly reorders the elements so that each possi- ble order occurs with equal probability. The random module includes a more basic function randint(a, b) that returns a uniformly random integer from a to b (including both endpoints). Using only the randint function, implement your own version of the shuﬄe function.\n"
   ]
  },
  {
   "cell_type": "code",
   "execution_count": 22,
   "id": "e61592d1",
   "metadata": {},
   "outputs": [],
   "source": [
    "\n",
    "            "
   ]
  },
  {
   "cell_type": "code",
   "execution_count": null,
   "id": "f9300f82",
   "metadata": {},
   "outputs": [],
   "source": []
  },
  {
   "cell_type": "code",
   "execution_count": null,
   "id": "f15f33cc",
   "metadata": {},
   "outputs": [],
   "source": []
  }
 ],
 "metadata": {
  "kernelspec": {
   "display_name": "Python 3.8.8 64-bit ('base': conda)",
   "language": "python",
   "name": "python388jvsc74a57bd0eb02d56a9c260f513444335bb55a391559ea4ee0a8c342c88c711e7bac680a69"
  },
  "language_info": {
   "codemirror_mode": {
    "name": "ipython",
    "version": 3
   },
   "file_extension": ".py",
   "mimetype": "text/x-python",
   "name": "python",
   "nbconvert_exporter": "python",
   "pygments_lexer": "ipython3",
   "version": "3.8.8"
  }
 },
 "nbformat": 4,
 "nbformat_minor": 5
}
