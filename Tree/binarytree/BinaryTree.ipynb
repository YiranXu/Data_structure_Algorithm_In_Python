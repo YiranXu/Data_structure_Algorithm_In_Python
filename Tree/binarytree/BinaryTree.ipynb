{
 "cells": [
  {
   "cell_type": "code",
   "execution_count": null,
   "id": "23e1f0a4",
   "metadata": {},
   "outputs": [],
   "source": []
  },
  {
   "cell_type": "code",
   "execution_count": 1,
   "id": "383283db",
   "metadata": {},
   "outputs": [],
   "source": [
    "class Node(object): #new style of defining classes in Python\n",
    "    def __init__(self,value):\n",
    "        self.value=value\n",
    "        self.left=None\n",
    "        self.right=None\n"
   ]
  },
  {
   "cell_type": "code",
   "execution_count": 2,
   "id": "35615c52",
   "metadata": {},
   "outputs": [],
   "source": [
    "class Queue():\n",
    "    def __init__(self) -> None:\n",
    "        self.items=[]\n",
    "    def enqueue(self,item):\n",
    "        self.items.insert(0,item)\n",
    "\n",
    "    def dequeue(self,item):\n",
    "        if self.is_empty():\n",
    "            return self.items.pop()\n",
    "    def is_empty(self):\n",
    "        return len(self.items)==0\n",
    "    def peek(self):\n",
    "        if not self.is_empty():\n",
    "            return self.items[-1].value\n",
    "    def __len__(self):\n",
    "        return self.size()\n",
    "    def size(self):\n",
    "        return len(self.items)"
   ]
  },
  {
   "cell_type": "code",
   "execution_count": 3,
   "id": "7992e82b",
   "metadata": {},
   "outputs": [],
   "source": [
    "class BinaryTree(object):\n",
    "    def __init__(self,root):\n",
    "        self.root=Node(root)\n",
    "    def levelorder_print(self, start):\n",
    "        if start:\n",
    "            queue=Queue()\n",
    "            queue.enqueue(start)\n",
    "            result=[]\n",
    "            while not queue.is_empty:\n",
    "                pop=queue.dequeue()\n",
    "                result.append(pop.value)\n",
    "                if pop.left:\n",
    "                    queue.enqueue(pop.left)\n",
    "                if pop.right:\n",
    "                    queue.enqueue(pop.right)\n",
    "                \n",
    "        return result\n",
    "        "
   ]
  },
  {
   "cell_type": "code",
   "execution_count": 4,
   "id": "e1f0cdd5",
   "metadata": {},
   "outputs": [],
   "source": [
    "tree = BinaryTree(1)\n",
    "tree.root.left = Node(2)\n",
    "tree.root.right = Node(3)\n",
    "tree.root.left.left = Node(4)\n",
    "tree.root.left.right = Node(5)\n",
    "tree.root.right.left = Node(6)\n",
    "tree.root.right.right = Node(7)"
   ]
  },
  {
   "cell_type": "code",
   "execution_count": 5,
   "id": "e2e9a978",
   "metadata": {},
   "outputs": [],
   "source": [
    "a=tree.levelorder_print(tree.root)\n"
   ]
  },
  {
   "cell_type": "code",
   "execution_count": 6,
   "id": "979a25fa",
   "metadata": {},
   "outputs": [
    {
     "data": {
      "text/plain": [
       "[]"
      ]
     },
     "execution_count": 6,
     "metadata": {},
     "output_type": "execute_result"
    }
   ],
   "source": [
    "a"
   ]
  },
  {
   "cell_type": "code",
   "execution_count": null,
   "id": "51d7e7fe",
   "metadata": {},
   "outputs": [],
   "source": []
  }
 ],
 "metadata": {
  "kernelspec": {
   "display_name": "Python 3 (ipykernel)",
   "language": "python",
   "name": "python3"
  },
  "language_info": {
   "codemirror_mode": {
    "name": "ipython",
    "version": 3
   },
   "file_extension": ".py",
   "mimetype": "text/x-python",
   "name": "python",
   "nbconvert_exporter": "python",
   "pygments_lexer": "ipython3",
   "version": "3.9.13"
  },
  "vscode": {
   "interpreter": {
    "hash": "621de9a9307d65cf3c41ebc5d7b571b5f59c0f4a8a7be885a974b6c54f8ff716"
   }
  }
 },
 "nbformat": 4,
 "nbformat_minor": 5
}
